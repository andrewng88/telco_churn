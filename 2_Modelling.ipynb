{
 "cells": [
  {
   "cell_type": "code",
   "execution_count": 1,
   "metadata": {},
   "outputs": [],
   "source": [
    "#import the necessary libraries\n",
    "import pandas as pd\n",
    "import seaborn as sns\n",
    "import numpy as np\n",
    "import matplotlib.pyplot as plt\n",
    "from sklearn.model_selection import train_test_split\n",
    "from sklearn.pipeline import Pipeline\n",
    "from sklearn.compose import ColumnTransformer\n",
    "from sklearn.linear_model import LogisticRegression\n",
    "from sklearn.preprocessing import StandardScaler,OneHotEncoder,LabelEncoder\n",
    "from sklearn.model_selection import GridSearchCV\n",
    "from sklearn.ensemble import RandomForestClassifier\n",
    "from sklearn.metrics import accuracy_score,precision_score,recall_score,confusion_matrix,roc_auc_score,f1_score\n",
    "from sklearn.metrics import plot_confusion_matrix,plot_roc_curve,classification_report\n",
    "from sklearn.feature_selection import RFECV\n",
    "from sklearn.svm import LinearSVC,SVC\n",
    "import pickle\n",
    "\n",
    "# suppress warning\n",
    "import warnings\n",
    "warnings.filterwarnings(\"ignore\")\n",
    "\n",
    "np.random.seed(42)"
   ]
  },
  {
   "cell_type": "code",
   "execution_count": 2,
   "metadata": {},
   "outputs": [
    {
     "data": {
      "text/html": [
       "<div>\n",
       "<style scoped>\n",
       "    .dataframe tbody tr th:only-of-type {\n",
       "        vertical-align: middle;\n",
       "    }\n",
       "\n",
       "    .dataframe tbody tr th {\n",
       "        vertical-align: top;\n",
       "    }\n",
       "\n",
       "    .dataframe thead th {\n",
       "        text-align: right;\n",
       "    }\n",
       "</style>\n",
       "<table border=\"1\" class=\"dataframe\">\n",
       "  <thead>\n",
       "    <tr style=\"text-align: right;\">\n",
       "      <th></th>\n",
       "      <th>gender</th>\n",
       "      <th>SeniorCitizen</th>\n",
       "      <th>Partner</th>\n",
       "      <th>Dependents</th>\n",
       "      <th>tenure</th>\n",
       "      <th>PhoneService</th>\n",
       "      <th>MultipleLines</th>\n",
       "      <th>InternetService</th>\n",
       "      <th>OnlineSecurity</th>\n",
       "      <th>OnlineBackup</th>\n",
       "      <th>DeviceProtection</th>\n",
       "      <th>TechSupport</th>\n",
       "      <th>StreamingTV</th>\n",
       "      <th>StreamingMovies</th>\n",
       "      <th>Contract</th>\n",
       "      <th>PaperlessBilling</th>\n",
       "      <th>PaymentMethod</th>\n",
       "      <th>MonthlyCharges</th>\n",
       "      <th>TotalCharges</th>\n",
       "      <th>Churn</th>\n",
       "    </tr>\n",
       "  </thead>\n",
       "  <tbody>\n",
       "    <tr>\n",
       "      <th>0</th>\n",
       "      <td>Female</td>\n",
       "      <td>0</td>\n",
       "      <td>Yes</td>\n",
       "      <td>No</td>\n",
       "      <td>1</td>\n",
       "      <td>No</td>\n",
       "      <td>No phone service</td>\n",
       "      <td>DSL</td>\n",
       "      <td>No</td>\n",
       "      <td>Yes</td>\n",
       "      <td>No</td>\n",
       "      <td>No</td>\n",
       "      <td>No</td>\n",
       "      <td>No</td>\n",
       "      <td>Month-to-month</td>\n",
       "      <td>Yes</td>\n",
       "      <td>Electronic check</td>\n",
       "      <td>29.85</td>\n",
       "      <td>29.85</td>\n",
       "      <td>No</td>\n",
       "    </tr>\n",
       "    <tr>\n",
       "      <th>1</th>\n",
       "      <td>Male</td>\n",
       "      <td>0</td>\n",
       "      <td>No</td>\n",
       "      <td>No</td>\n",
       "      <td>34</td>\n",
       "      <td>Yes</td>\n",
       "      <td>No</td>\n",
       "      <td>DSL</td>\n",
       "      <td>Yes</td>\n",
       "      <td>No</td>\n",
       "      <td>Yes</td>\n",
       "      <td>No</td>\n",
       "      <td>No</td>\n",
       "      <td>No</td>\n",
       "      <td>One year</td>\n",
       "      <td>No</td>\n",
       "      <td>Mailed check</td>\n",
       "      <td>56.95</td>\n",
       "      <td>1889.50</td>\n",
       "      <td>No</td>\n",
       "    </tr>\n",
       "    <tr>\n",
       "      <th>2</th>\n",
       "      <td>Male</td>\n",
       "      <td>0</td>\n",
       "      <td>No</td>\n",
       "      <td>No</td>\n",
       "      <td>2</td>\n",
       "      <td>Yes</td>\n",
       "      <td>No</td>\n",
       "      <td>DSL</td>\n",
       "      <td>Yes</td>\n",
       "      <td>Yes</td>\n",
       "      <td>No</td>\n",
       "      <td>No</td>\n",
       "      <td>No</td>\n",
       "      <td>No</td>\n",
       "      <td>Month-to-month</td>\n",
       "      <td>Yes</td>\n",
       "      <td>Mailed check</td>\n",
       "      <td>53.85</td>\n",
       "      <td>108.15</td>\n",
       "      <td>Yes</td>\n",
       "    </tr>\n",
       "    <tr>\n",
       "      <th>3</th>\n",
       "      <td>Male</td>\n",
       "      <td>0</td>\n",
       "      <td>No</td>\n",
       "      <td>No</td>\n",
       "      <td>45</td>\n",
       "      <td>No</td>\n",
       "      <td>No phone service</td>\n",
       "      <td>DSL</td>\n",
       "      <td>Yes</td>\n",
       "      <td>No</td>\n",
       "      <td>Yes</td>\n",
       "      <td>Yes</td>\n",
       "      <td>No</td>\n",
       "      <td>No</td>\n",
       "      <td>One year</td>\n",
       "      <td>No</td>\n",
       "      <td>Bank transfer (automatic)</td>\n",
       "      <td>42.30</td>\n",
       "      <td>1840.75</td>\n",
       "      <td>No</td>\n",
       "    </tr>\n",
       "    <tr>\n",
       "      <th>4</th>\n",
       "      <td>Female</td>\n",
       "      <td>0</td>\n",
       "      <td>No</td>\n",
       "      <td>No</td>\n",
       "      <td>2</td>\n",
       "      <td>Yes</td>\n",
       "      <td>No</td>\n",
       "      <td>Fiber optic</td>\n",
       "      <td>No</td>\n",
       "      <td>No</td>\n",
       "      <td>No</td>\n",
       "      <td>No</td>\n",
       "      <td>No</td>\n",
       "      <td>No</td>\n",
       "      <td>Month-to-month</td>\n",
       "      <td>Yes</td>\n",
       "      <td>Electronic check</td>\n",
       "      <td>70.70</td>\n",
       "      <td>151.65</td>\n",
       "      <td>Yes</td>\n",
       "    </tr>\n",
       "  </tbody>\n",
       "</table>\n",
       "</div>"
      ],
      "text/plain": [
       "   gender  SeniorCitizen Partner Dependents  tenure PhoneService  \\\n",
       "0  Female              0     Yes         No       1           No   \n",
       "1    Male              0      No         No      34          Yes   \n",
       "2    Male              0      No         No       2          Yes   \n",
       "3    Male              0      No         No      45           No   \n",
       "4  Female              0      No         No       2          Yes   \n",
       "\n",
       "      MultipleLines InternetService OnlineSecurity OnlineBackup  \\\n",
       "0  No phone service             DSL             No          Yes   \n",
       "1                No             DSL            Yes           No   \n",
       "2                No             DSL            Yes          Yes   \n",
       "3  No phone service             DSL            Yes           No   \n",
       "4                No     Fiber optic             No           No   \n",
       "\n",
       "  DeviceProtection TechSupport StreamingTV StreamingMovies        Contract  \\\n",
       "0               No          No          No              No  Month-to-month   \n",
       "1              Yes          No          No              No        One year   \n",
       "2               No          No          No              No  Month-to-month   \n",
       "3              Yes         Yes          No              No        One year   \n",
       "4               No          No          No              No  Month-to-month   \n",
       "\n",
       "  PaperlessBilling              PaymentMethod  MonthlyCharges  TotalCharges  \\\n",
       "0              Yes           Electronic check           29.85         29.85   \n",
       "1               No               Mailed check           56.95       1889.50   \n",
       "2              Yes               Mailed check           53.85        108.15   \n",
       "3               No  Bank transfer (automatic)           42.30       1840.75   \n",
       "4              Yes           Electronic check           70.70        151.65   \n",
       "\n",
       "  Churn  \n",
       "0    No  \n",
       "1    No  \n",
       "2   Yes  \n",
       "3    No  \n",
       "4   Yes  "
      ]
     },
     "execution_count": 2,
     "metadata": {},
     "output_type": "execute_result"
    }
   ],
   "source": [
    "# read csv and display 5 rows\n",
    "df = pd.read_csv('data/churn_done.csv')\n",
    "df.head()"
   ]
  },
  {
   "cell_type": "code",
   "execution_count": 3,
   "metadata": {},
   "outputs": [],
   "source": [
    "# Convert target label to binary\n",
    "le = LabelEncoder()\n",
    "df['Churn'] = le.fit_transform(df['Churn'])"
   ]
  },
  {
   "cell_type": "markdown",
   "metadata": {},
   "source": [
    "## Pearson Correlation\n",
    "Correlation is the standardized covariance, i.e the covariance of x and y divided by the standard deviation of x and y. <br>\n",
    "We can use this to check multicolinearity and also the direction and strength of the corelation.<br>\n",
    "\n",
    "![pic](https://wikimedia.org/api/rest_v1/media/math/render/svg/f76ccfa7c2ed7f5b085115086107bbe25d329cec)"
   ]
  },
  {
   "cell_type": "code",
   "execution_count": 4,
   "metadata": {},
   "outputs": [
    {
     "data": {
      "image/png": "[encoded data removed]",
      "text/plain": [
       "<Figure size 360x360 with 2 Axes>"
      ]
     },
     "metadata": {
      "needs_background": "light"
     },
     "output_type": "display_data"
    }
   ],
   "source": [
    "corr=round(df[['tenure','MonthlyCharges','TotalCharges']].corr(),2)\n",
    "plt.figure(figsize=(5,5))\n",
    "mask=np.triu(np.ones_like(corr,dtype=np.bool))\n",
    "cmap=sns.diverging_palette(220,10,as_cmap=True)\n",
    "sns.heatmap(corr,square=True,annot=False,mask=mask,cmap=cmap,linewidths=0.5,cbar_kws={'shrink':0.5})\n",
    "plt.show()"
   ]
  },
  {
   "cell_type": "markdown",
   "metadata": {},
   "source": [
    "We can observe that TotalCharges , Monthly Charges and tenure are **highly correlated** and there's a tendency that we will maintain Total Charges. <br>We can consider dropping tenure, since TotalChargers = tenure * MonthlyChargers"
   ]
  },
  {
   "cell_type": "markdown",
   "metadata": {},
   "source": [
    "# Modelling"
   ]
  },
  {
   "cell_type": "code",
   "execution_count": 5,
   "metadata": {},
   "outputs": [
    {
     "data": {
      "text/plain": [
       "0    0.73\n",
       "1    0.27\n",
       "Name: Churn, dtype: float64"
      ]
     },
     "execution_count": 5,
     "metadata": {},
     "output_type": "execute_result"
    }
   ],
   "source": [
    "# Baseline\n",
    "df.Churn.value_counts(normalize=True).round(2)"
   ]
  },
  {
   "cell_type": "markdown",
   "metadata": {},
   "source": [
    "Our baseline model is giving us an accuracy of 73%. \n",
    "It means that if we assign every row to class '0', we will be 73% correct"
   ]
  },
  {
   "cell_type": "code",
   "execution_count": 6,
   "metadata": {},
   "outputs": [],
   "source": [
    "# Prepare Predictor and Target Variables\n",
    "X = df.drop(['Churn'],axis=1)\n",
    "y = df['Churn']"
   ]
  },
  {
   "cell_type": "code",
   "execution_count": 7,
   "metadata": {},
   "outputs": [],
   "source": [
    "# Train-test-split with 20% test size and stratify set to yes\n",
    "# as we want the train and test set to be balanced\n",
    "X_train, X_test, y_train, y_test = train_test_split(\n",
    "     X, y, test_size=0.2, random_state=42,stratify=y)"
   ]
  },
  {
   "cell_type": "markdown",
   "metadata": {},
   "source": [
    "## Logistic Regression"
   ]
  },
  {
   "cell_type": "markdown",
   "metadata": {},
   "source": [
    "## Processing pipeline"
   ]
  },
  {
   "cell_type": "code",
   "execution_count": 8,
   "metadata": {},
   "outputs": [],
   "source": [
    "# define the numerical and categorical columns\n",
    "numerical =['MonthlyCharges','TotalCharges','tenure']\n",
    "categorical= [ col for col in df.columns if col not in numerical and col!='Churn' and col!='tenure' ]\n",
    "\n",
    "# all numeric columns will be standardized\n",
    "numeric_transformer = Pipeline(steps=[\n",
    "    ('scaler', StandardScaler())])\n",
    "\n",
    "# all categorical columns will be One-Hot-Encoded\n",
    "categorical_transformer = Pipeline(steps=[\n",
    "    ('onehot', OneHotEncoder(handle_unknown='ignore'))])\n",
    "\n",
    "# we will process numerical and categorical columns in parallel\n",
    "preprocessor = ColumnTransformer(\n",
    "    transformers=[\n",
    "        ('cat_multi', categorical_transformer, categorical),\n",
    "        ('num', numeric_transformer, numerical)])"
   ]
  },
  {
   "cell_type": "markdown",
   "metadata": {},
   "source": [
    "We will be using pipelines and ColumnTransformer so as to assist us with better workflow and especially for deployment.<br>\n",
    "The purpose of the pipeline is to assemble several steps that can be cross-validated together while setting different parameters."
   ]
  },
  {
   "cell_type": "markdown",
   "metadata": {},
   "source": [
    "### RFECV"
   ]
  },
  {
   "cell_type": "markdown",
   "metadata": {},
   "source": [
    "RFE is a wrapper-type feature selection algorithm. \n",
    "\n",
    "RFE works by searching for a subset of features by starting with all features in the training dataset and successfully removing features until the desired number remains.\n",
    "\n",
    "This is achieved by fitting the given machine learning algorithm used in the core of the model, ranking features by importance, discarding the least important features, and re-fitting the model. This process is repeated until a specified number of features remains.\n",
    "\n",
    "RFECV means we include Cross Validation when we fit"
   ]
  },
  {
   "cell_type": "markdown",
   "metadata": {},
   "source": [
    "## **F1 scoring**"
   ]
  },
  {
   "cell_type": "markdown",
   "metadata": {},
   "source": [
    "F1 scoring is used for RFECV feature selection because F1 Score keeps a balance between Precision and Recall.\n",
    "\n",
    "AUC- ROC vs F1 Score \n",
    "In general, the ROC is used for many different levels of thresholds and thus it has many F score values. F1 score is applicable for any particular point on the ROC curve.\n",
    "\n",
    "You may think of it as a measure of precision and recall at a particular threshold value whereas AUC is the area under the ROC curve. For F score to be high, both precision and recall should be high.\n",
    "\n",
    "When you have a data imbalance between positive and negative samples, you should always use F1-score because of ROC averages over all possible thresholds.\n",
    "\n",
    "![pic](https://lh4.googleusercontent.com/kGNsnAScbuhUL2JXNXmoKQhhi8N6P7yT1yrAt_KEaPet_1XiptjcutS6Xi83Ja1EbIJbeEjDYFVJI9fQwJVAtl31o4CJIQEtNvcdeB2VMiVYBxyULgaXO1JMUc-F2CcDn_Wlpd_R)"
   ]
  },
  {
   "cell_type": "code",
   "execution_count": 9,
   "metadata": {},
   "outputs": [
    {
     "data": {
      "text/plain": [
       "Pipeline(memory=None,\n",
       "         steps=[('preprocessor',\n",
       "                 ColumnTransformer(n_jobs=None, remainder='drop',\n",
       "                                   sparse_threshold=0.3,\n",
       "                                   transformer_weights=None,\n",
       "                                   transformers=[('cat_multi',\n",
       "                                                  Pipeline(memory=None,\n",
       "                                                           steps=[('onehot',\n",
       "                                                                   OneHotEncoder(categories='auto',\n",
       "                                                                                 drop=None,\n",
       "                                                                                 dtype=<class 'numpy.float64'>,\n",
       "                                                                                 handle_unknown='ignore',\n",
       "                                                                                 sparse=True))],\n",
       "                                                           verbose=False),\n",
       "                                                  ['gender', 'SeniorCitize...\n",
       "                                   verbose=False)),\n",
       "                ('rfecv',\n",
       "                 RFECV(cv=5,\n",
       "                       estimator=LogisticRegression(C=1.0, class_weight=None,\n",
       "                                                    dual=False,\n",
       "                                                    fit_intercept=True,\n",
       "                                                    intercept_scaling=1,\n",
       "                                                    l1_ratio=None,\n",
       "                                                    max_iter=1000,\n",
       "                                                    multi_class='auto',\n",
       "                                                    n_jobs=None, penalty='l2',\n",
       "                                                    random_state=42,\n",
       "                                                    solver='lbfgs', tol=0.1,\n",
       "                                                    verbose=0,\n",
       "                                                    warm_start=False),\n",
       "                       min_features_to_select=1, n_jobs=-1, scoring='f1',\n",
       "                       step=1, verbose=0))],\n",
       "         verbose=False)"
      ]
     },
     "execution_count": 9,
     "metadata": {},
     "output_type": "execute_result"
    }
   ],
   "source": [
    "# fit RFECV using LogReg to obtain the best features\n",
    "\n",
    "estimator = LogisticRegression(max_iter=1000, tol=0.1,random_state=42)\n",
    "pipe_rfecv = Pipeline(steps=[('preprocessor', preprocessor),\n",
    "                      ('rfecv',RFECV(estimator, step=1, cv=5,scoring='f1',n_jobs=-1))])\n",
    "pipe_rfecv.fit(X_train,y_train)"
   ]
  },
  {
   "cell_type": "code",
   "execution_count": 10,
   "metadata": {},
   "outputs": [
    {
     "data": {
      "image/png": "[encoded data removed]",
      "text/plain": [
       "<Figure size 1080x432 with 1 Axes>"
      ]
     },
     "metadata": {
      "needs_background": "light"
     },
     "output_type": "display_data"
    },
    {
     "name": "stdout",
     "output_type": "stream",
     "text": [
      "Optimal number of features : 14\n"
     ]
    }
   ],
   "source": [
    "# Plot number of features VS. cross-validation scores\n",
    "plt.figure(figsize=(15, 6))\n",
    "plt.xlabel(\"Number of features selected\")\n",
    "plt.ylabel(\"Cross validation score (f1_score)\")\n",
    "plt.plot(range(1, len(pipe_rfecv['rfecv'].grid_scores_) + 1), pipe_rfecv['rfecv'].grid_scores_)\n",
    "plt.show()\n",
    "print(\"Optimal number of features : %d\" % pipe_rfecv['rfecv'].n_features_)"
   ]
  },
  {
   "cell_type": "code",
   "execution_count": 11,
   "metadata": {},
   "outputs": [
    {
     "data": {
      "text/plain": [
       "array([False, False, False, False, False, False, False, False, False,\n",
       "       False,  True, False, False,  True,  True, False,  True,  True,\n",
       "       False, False,  True, False, False, False, False, False, False,\n",
       "       False, False, False,  True, False, False,  True,  True, False,\n",
       "        True, False, False, False, False,  True, False,  True,  True,\n",
       "        True])"
      ]
     },
     "execution_count": 11,
     "metadata": {},
     "output_type": "execute_result"
    }
   ],
   "source": [
    "# features that should be selected based on the boolean below\n",
    "pipe_rfecv['rfecv'].support_"
   ]
  },
  {
   "cell_type": "code",
   "execution_count": 12,
   "metadata": {},
   "outputs": [
    {
     "data": {
      "text/plain": [
       "array(['gender_Female', 'gender_Male', 'SeniorCitizen_0',\n",
       "       'SeniorCitizen_1', 'Partner_No', 'Partner_Yes', 'Dependents_No',\n",
       "       'Dependents_Yes', 'PhoneService_No', 'PhoneService_Yes',\n",
       "       'MultipleLines_No', 'MultipleLines_No phone service',\n",
       "       'MultipleLines_Yes', 'InternetService_DSL',\n",
       "       'InternetService_Fiber optic', 'InternetService_No',\n",
       "       'OnlineSecurity_No', 'OnlineSecurity_No internet service',\n",
       "       'OnlineSecurity_Yes', 'OnlineBackup_No',\n",
       "       'OnlineBackup_No internet service', 'OnlineBackup_Yes',\n",
       "       'DeviceProtection_No', 'DeviceProtection_No internet service',\n",
       "       'DeviceProtection_Yes', 'TechSupport_No',\n",
       "       'TechSupport_No internet service', 'TechSupport_Yes',\n",
       "       'StreamingTV_No', 'StreamingTV_No internet service',\n",
       "       'StreamingTV_Yes', 'StreamingMovies_No',\n",
       "       'StreamingMovies_No internet service', 'StreamingMovies_Yes',\n",
       "       'Contract_Month-to-month', 'Contract_One year',\n",
       "       'Contract_Two year', 'PaperlessBilling_No', 'PaperlessBilling_Yes',\n",
       "       'PaymentMethod_Bank transfer (automatic)',\n",
       "       'PaymentMethod_Credit card (automatic)',\n",
       "       'PaymentMethod_Electronic check', 'PaymentMethod_Mailed check'],\n",
       "      dtype=object)"
      ]
     },
     "execution_count": 12,
     "metadata": {},
     "output_type": "execute_result"
    }
   ],
   "source": [
    "# obtain the categorical columns that are One Hot Encoded from pipe_rfecv\n",
    "cat = pipe_rfecv['preprocessor'].transformers_[0][1]['onehot']\\\n",
    "                         .get_feature_names(categorical)\n",
    "cat"
   ]
  },
  {
   "cell_type": "code",
   "execution_count": 13,
   "metadata": {},
   "outputs": [
    {
     "data": {
      "text/plain": [
       "['MonthlyCharges', 'TotalCharges', 'tenure']"
      ]
     },
     "execution_count": 13,
     "metadata": {},
     "output_type": "execute_result"
    }
   ],
   "source": [
    "# obtain numerical columns\n",
    "numerical"
   ]
  },
  {
   "cell_type": "code",
   "execution_count": 14,
   "metadata": {},
   "outputs": [
    {
     "data": {
      "text/plain": [
       "array(['MultipleLines_No', 'InternetService_DSL',\n",
       "       'InternetService_Fiber optic', 'OnlineSecurity_No',\n",
       "       'OnlineSecurity_No internet service',\n",
       "       'OnlineBackup_No internet service', 'StreamingTV_Yes',\n",
       "       'StreamingMovies_Yes', 'Contract_Month-to-month',\n",
       "       'Contract_Two year', 'PaymentMethod_Electronic check',\n",
       "       'MonthlyCharges', 'TotalCharges', 'tenure'], dtype=object)"
      ]
     },
     "execution_count": 14,
     "metadata": {},
     "output_type": "execute_result"
    }
   ],
   "source": [
    "# combine both categorical and numeric horizontally\n",
    "cat_numeric = np.hstack([cat, numerical])\n",
    "\n",
    "# use mask to filter \n",
    "cat_numeric[pipe_rfecv['rfecv'].support_]"
   ]
  },
  {
   "cell_type": "code",
   "execution_count": 15,
   "metadata": {},
   "outputs": [],
   "source": [
    "#manually filter out the important columns as they are dummified\n",
    "numerical =['MonthlyCharges','TotalCharges','tenure']\n",
    "categorical = ['SeniorCitizen','Dependents','MultipleLines','InternetService','OnlineSecurity','OnlineBackup',\\\n",
    "               'DeviceProtection','TechSupport','StreamingTV','StreamingMovies','Contract','PaperlessBilling','PaymentMethod']"
   ]
  },
  {
   "cell_type": "code",
   "execution_count": 16,
   "metadata": {},
   "outputs": [],
   "source": [
    "# we re-initialize the numerical and categorical columns\n",
    "# previously was all columns before RFECV\n",
    "preprocessor = ColumnTransformer(\n",
    "    transformers=[\n",
    "        ('cat_multi', categorical_transformer, categorical),\n",
    "        ('num', numeric_transformer, numerical)])"
   ]
  },
  {
   "cell_type": "markdown",
   "metadata": {},
   "source": [
    "## k-Fold Cross Validation"
   ]
  },
  {
   "cell_type": "markdown",
   "metadata": {},
   "source": [
    "**Cross-validation** is primarily used in applied machine learning to estimate the skill of a machine learning model on unseen data. That is, to use a limited sample in order to estimate how the model is expected to perform in general when used to make predictions on data not used during the training of the model.\n",
    "\n",
    "If we set cv = 5, it means we will iterate 4 times with 5 portions divided into 4 Training Data and 1 Test Data as per illustration below."
   ]
  },
  {
   "cell_type": "markdown",
   "metadata": {},
   "source": [
    "![pic](https://miro.medium.com/max/523/1*C5FJt_NH1BWJrFSvw_6jtw.png)"
   ]
  },
  {
   "cell_type": "code",
   "execution_count": 17,
   "metadata": {},
   "outputs": [],
   "source": [
    "def eval_model(model_name,parameter):\n",
    "    '''This function takes in a Pipeline and its parameters. It prints the validation auc-roc score, best parameters,\n",
    "    score on training data, recall score of model, precision score of model, accuracy score of model,\n",
    "    ,confusion matrix,roc-auc chart. \n",
    "    \n",
    "    And important parameters in dictionary format for model comparison purposes'''\n",
    "    \n",
    "    # Gridsearch with CV based on the model's parameter, metric used is 'roc_auc', utilizing all the CPU cores\n",
    "    search = GridSearchCV(pipe,parameter, cv=5, scoring = 'f1',verbose=1,n_jobs=-1)\n",
    "    search = search.fit(X_train,y_train)\n",
    "    \n",
    "    # Dump model for future use or deployment \n",
    "    pickle.dump(search, open('data/{}_model.pkl'.format(model_name), 'wb'))\n",
    "\n",
    "    #Best score ROC-AUC from GridSearchCV\n",
    "    best_score = search.best_score_.round(3)\n",
    "    print(f'CV F1 Score: {best_score}')\n",
    "      \n",
    "    #Best Parameters from GridSearchCV\n",
    "    best_params = search.best_params_\n",
    "    print(f'Best Params: {best_params}')\n",
    "    \n",
    "    #save Best model from GridSearchCV\n",
    "    best_model = search.best_estimator_ \n",
    "    \n",
    "    #Make predictions using best model on test data\n",
    "    y_pred = search.predict(X_test)\n",
    "    \n",
    "    #Plot confusion matrix ( normalize and non-normalize)\n",
    "    plot_confusion_matrix(search.best_estimator_, X_test, y_test,normalize='true',display_labels=['No Churn','Churn']);\n",
    "    plot_confusion_matrix(search.best_estimator_, X_test, y_test,display_labels=['No Churn','Churn'])\n",
    "    \n",
    "    #Plot roc auc curve\n",
    "    plot_roc_curve(search.best_estimator_, X_test, y_test);\n",
    "    \n",
    "    # Print Test metrics : Accuracy, Precision, Recall\n",
    "    accuracy = accuracy_score(y_test,y_pred).round(3)\n",
    "    print(f'Test Accuracy: {accuracy}')\n",
    "    precision = precision_score(y_test,y_pred).round(2)\n",
    "    print(f'Test Precision:  {precision}')\n",
    "    recall = recall_score(y_test,y_pred).round(2)\n",
    "    print(f'Test Recall: {recall}')\n",
    "    f1 = f1_score(y_test,y_pred, average='micro').round(2)\n",
    "    print(classification_report(y_test,y_pred,target_names=['No Churn','Churn']))\n",
    "    \n",
    "    model_dict = {}\n",
    "    model_dict['val_f1'] = best_score\n",
    "    model_dict['test_scores'] = ' '\n",
    "    model_dict['f1'] = f1\n",
    "    model_dict['accuracy'] = accuracy\n",
    "    model_dict['precision'] = precision\n",
    "    model_dict['recall'] = recall\n",
    "    model_dict['best_params'] = [best_params]\n",
    "    tn, fp, fn, tp = confusion_matrix(y_test, y_pred, labels=[0,1]).ravel()\n",
    "    model_dict['cost_benefit'] = (80 * tp * 11 ) +\\\n",
    "                                 (65 * tn * 12 ) +\\\n",
    "                                 (65 * fp * 11 ) +\\\n",
    "                                 (-80 * fn * 12 ) \n",
    "    print(model_dict['cost_benefit'])\n",
    "    # return the best model\n",
    "    return search , model_dict "
   ]
  },
  {
   "cell_type": "code",
   "execution_count": 18,
   "metadata": {},
   "outputs": [
    {
     "name": "stdout",
     "output_type": "stream",
     "text": [
      "Fitting 5 folds for each of 108 candidates, totalling 540 fits\n"
     ]
    },
    {
     "name": "stderr",
     "output_type": "stream",
     "text": [
      "[Parallel(n_jobs=-1)]: Using backend LokyBackend with 8 concurrent workers.\n",
      "[Parallel(n_jobs=-1)]: Done  34 tasks      | elapsed:    1.2s\n",
      "[Parallel(n_jobs=-1)]: Done 248 tasks      | elapsed:    4.3s\n",
      "[Parallel(n_jobs=-1)]: Done 540 out of 540 | elapsed:    8.3s finished\n"
     ]
    },
    {
     "name": "stdout",
     "output_type": "stream",
     "text": [
      "CV F1 Score: 0.639\n",
      "Best Params: {'logreg__C': 30, 'logreg__class_weight': 'balanced', 'logreg__penalty': 'l2', 'logreg__solver': 'saga'}\n",
      "Test Accuracy: 0.73\n",
      "Test Precision:  0.5\n",
      "Test Recall: 0.79\n",
      "              precision    recall  f1-score   support\n",
      "\n",
      "    No Churn       0.90      0.71      0.79      1033\n",
      "       Churn       0.49      0.79      0.61       374\n",
      "\n",
      "    accuracy                           0.73      1407\n",
      "   macro avg       0.70      0.75      0.70      1407\n",
      "weighted avg       0.80      0.73      0.74      1407\n",
      "\n",
      "973485\n"
     ]
    },
    {
     "data": {
      "image/png": "[encoded data removed]",
      "text/plain": [
       "<Figure size 432x288 with 2 Axes>"
      ]
     },
     "metadata": {
      "needs_background": "light"
     },
     "output_type": "display_data"
    },
    {
     "data": {
      "image/png": "[encoded data removed]",
      "text/plain": [
       "<Figure size 432x288 with 2 Axes>"
      ]
     },
     "metadata": {
      "needs_background": "light"
     },
     "output_type": "display_data"
    },
    {
     "data": {
      "image/png": "[encoded data removed]",
      "text/plain": [
       "<Figure size 432x288 with 1 Axes>"
      ]
     },
     "metadata": {
      "needs_background": "light"
     },
     "output_type": "display_data"
    }
   ],
   "source": [
    "# we will process the columns then we will do logreg modelling\n",
    "pipe = Pipeline(steps=[('preprocessor', preprocessor),\n",
    "                      ('logreg',LogisticRegression(max_iter=1000, tol=0.1,random_state=42))])\n",
    "\n",
    "# parameters we will grid search\n",
    "logreg_param = {\n",
    "    'logreg__C': [1e-2, 1e-1, 1, 5, 10,20,30,40,50],\n",
    "    'logreg__penalty' : ['l1','l2'],\n",
    "    'logreg__solver' : ['lbfgs', 'liblinear','saga'],\n",
    "    'logreg__class_weight' : ['balanced', None]\n",
    "}\n",
    "\n",
    "# run model evaluation\n",
    "logreg,logreg_dict = eval_model('logreg',logreg_param)"
   ]
  },
  {
   "cell_type": "markdown",
   "metadata": {},
   "source": [
    "## Random forest"
   ]
  },
  {
   "cell_type": "code",
   "execution_count": 20,
   "metadata": {},
   "outputs": [
    {
     "data": {
      "text/plain": [
       "Pipeline(memory=None,\n",
       "         steps=[('preprocessor',\n",
       "                 ColumnTransformer(n_jobs=None, remainder='drop',\n",
       "                                   sparse_threshold=0.3,\n",
       "                                   transformer_weights=None,\n",
       "                                   transformers=[('cat_multi',\n",
       "                                                  Pipeline(memory=None,\n",
       "                                                           steps=[('onehot',\n",
       "                                                                   OneHotEncoder(categories='auto',\n",
       "                                                                                 drop=None,\n",
       "                                                                                 dtype=<class 'numpy.float64'>,\n",
       "                                                                                 handle_unknown='ignore',\n",
       "                                                                                 sparse=True))],\n",
       "                                                           verbose=False),\n",
       "                                                  ['gender', 'SeniorCitize...\n",
       "                                                        max_features='auto',\n",
       "                                                        max_leaf_nodes=None,\n",
       "                                                        max_samples=None,\n",
       "                                                        min_impurity_decrease=0.0,\n",
       "                                                        min_impurity_split=None,\n",
       "                                                        min_samples_leaf=1,\n",
       "                                                        min_samples_split=2,\n",
       "                                                        min_weight_fraction_leaf=0.0,\n",
       "                                                        n_estimators=100,\n",
       "                                                        n_jobs=None,\n",
       "                                                        oob_score=False,\n",
       "                                                        random_state=42,\n",
       "                                                        verbose=0,\n",
       "                                                        warm_start=False),\n",
       "                       min_features_to_select=1, n_jobs=-1, scoring='f1_micro',\n",
       "                       step=1, verbose=0))],\n",
       "         verbose=False)"
      ]
     },
     "execution_count": 20,
     "metadata": {},
     "output_type": "execute_result"
    }
   ],
   "source": [
    "categorical= [ col for col in df.columns if col not in numerical and col!='Churn' and col!='tenure' ]\n",
    "# all numeric columns will be standardized\n",
    "numeric_transformer = Pipeline(steps=[\n",
    "    ('scaler', StandardScaler())])\n",
    "# all categorical columns will be One-Hot-Encoded\n",
    "categorical_transformer = Pipeline(steps=[\n",
    "    ('onehot', OneHotEncoder(handle_unknown='ignore'))])\n",
    "# we will process numerical and categorical columns in parallel\n",
    "preprocessor = ColumnTransformer(\n",
    "    transformers=[\n",
    "        ('cat_multi', categorical_transformer, categorical),\n",
    "        ('num', numeric_transformer, numerical)])\n",
    "# fit RFECV using LogReg to obtain the best features\n",
    "estimator = RandomForestClassifier(random_state=42)\n",
    "pipe_rfecv = Pipeline(steps=[('preprocessor', preprocessor),\n",
    "                      ('rfecv',RFECV(estimator, step=1, cv=5,scoring='f1_micro',n_jobs=-1))])\n",
    "pipe_rfecv.fit(X_train,y_train)"
   ]
  },
  {
   "cell_type": "code",
   "execution_count": 21,
   "metadata": {},
   "outputs": [
    {
     "data": {
      "image/png": "[encoded data removed]",
      "text/plain": [
       "<Figure size 1080x432 with 1 Axes>"
      ]
     },
     "metadata": {
      "needs_background": "light"
     },
     "output_type": "display_data"
    },
    {
     "name": "stdout",
     "output_type": "stream",
     "text": [
      "Optimal number of features : 20\n"
     ]
    }
   ],
   "source": [
    "# Plot number of features VS. cross-validation scores\n",
    "plt.figure(figsize=(15, 6))\n",
    "plt.xlabel(\"Number of features selected\")\n",
    "plt.ylabel(\"Cross validation score (nb of correct classifications)\")\n",
    "plt.plot(range(1, len(pipe_rfecv['rfecv'].grid_scores_) + 1), pipe_rfecv['rfecv'].grid_scores_)\n",
    "plt.show()\n",
    "print(\"Optimal number of features : %d\" % pipe_rfecv['rfecv'].n_features_)"
   ]
  },
  {
   "cell_type": "code",
   "execution_count": 22,
   "metadata": {},
   "outputs": [
    {
     "data": {
      "text/plain": [
       "array(['gender_Female', 'gender_Male', 'SeniorCitizen_0', 'Partner_No',\n",
       "       'Dependents_No', 'MultipleLines_No', 'InternetService_Fiber optic',\n",
       "       'OnlineSecurity_No', 'OnlineBackup_No', 'DeviceProtection_No',\n",
       "       'TechSupport_No', 'StreamingTV_Yes', 'StreamingMovies_Yes',\n",
       "       'Contract_Month-to-month', 'Contract_Two year',\n",
       "       'PaperlessBilling_Yes', 'PaymentMethod_Electronic check',\n",
       "       'MonthlyCharges', 'TotalCharges', 'tenure'], dtype=object)"
      ]
     },
     "execution_count": 22,
     "metadata": {},
     "output_type": "execute_result"
    }
   ],
   "source": [
    "pipe_rfecv['rfecv'].support_\n",
    "cat = pipe_rfecv['preprocessor'].transformers_[0][1]['onehot']\\\n",
    "                         .get_feature_names(categorical)\n",
    "numerical\n",
    "cat_numeric = np.hstack([cat, numerical])\n",
    "cat_numeric[pipe_rfecv['rfecv'].support_]"
   ]
  },
  {
   "cell_type": "code",
   "execution_count": 23,
   "metadata": {},
   "outputs": [],
   "source": [
    "#manually filter out the  important columns as the columns are dummified\n",
    "numerical =['MonthlyCharges','TotalCharges','tenure']\n",
    "categorical = ['gender','SeniorCitizen','Partner','Dependents','MultipleLines','InternetService','OnlineSecurity','OnlineBackup',\n",
    "               'DeviceProtection','TechSupport','StreamingTV','StreamingMovies','Contract','PaperlessBilling','PaymentMethod']"
   ]
  },
  {
   "cell_type": "code",
   "execution_count": 24,
   "metadata": {},
   "outputs": [],
   "source": [
    "# we will process numerical and categorical columns in parallel\n",
    "preprocessor = ColumnTransformer(\n",
    "    transformers=[\n",
    "        ('cat_multi', categorical_transformer, categorical),\n",
    "        ('num', numeric_transformer, numerical)])"
   ]
  },
  {
   "cell_type": "code",
   "execution_count": 25,
   "metadata": {},
   "outputs": [],
   "source": [
    "pipe = Pipeline(steps=[('preprocessor', preprocessor),\n",
    "                      ('rf',RandomForestClassifier(random_state=42))])\n",
    "\n",
    "rf_param = {\n",
    "    'rf__n_estimators': [175,200,225],\n",
    "    'rf__max_depth' : [7],\n",
    "    'rf__min_samples_split' : [2],\n",
    "    'rf__min_samples_leaf' : [2],\n",
    "    'rf__oob_score' : ['True'],\n",
    "    'rf__class_weight' : ['balanced', 'balanced_subsample',None]\n",
    "}"
   ]
  },
  {
   "cell_type": "code",
   "execution_count": 26,
   "metadata": {},
   "outputs": [
    {
     "name": "stdout",
     "output_type": "stream",
     "text": [
      "Fitting 5 folds for each of 9 candidates, totalling 45 fits\n"
     ]
    },
    {
     "name": "stderr",
     "output_type": "stream",
     "text": [
      "[Parallel(n_jobs=-1)]: Using backend LokyBackend with 8 concurrent workers.\n",
      "[Parallel(n_jobs=-1)]: Done  45 out of  45 | elapsed:   12.6s finished\n"
     ]
    },
    {
     "name": "stdout",
     "output_type": "stream",
     "text": [
      "CV F1 Score: 0.637\n",
      "Best Params: {'rf__class_weight': 'balanced', 'rf__max_depth': 7, 'rf__min_samples_leaf': 2, 'rf__min_samples_split': 2, 'rf__n_estimators': 175, 'rf__oob_score': 'True'}\n",
      "Test Accuracy: 0.738\n",
      "Test Precision:  0.5\n",
      "Test Recall: 0.78\n",
      "              precision    recall  f1-score   support\n",
      "\n",
      "    No Churn       0.90      0.72      0.80      1033\n",
      "       Churn       0.50      0.78      0.61       374\n",
      "\n",
      "    accuracy                           0.74      1407\n",
      "   macro avg       0.70      0.75      0.71      1407\n",
      "weighted avg       0.80      0.74      0.75      1407\n",
      "\n",
      "967100\n"
     ]
    },
    {
     "data": {
      "image/png": "[encoded data removed]",
      "text/plain": [
       "<Figure size 432x288 with 2 Axes>"
      ]
     },
     "metadata": {
      "needs_background": "light"
     },
     "output_type": "display_data"
    },
    {
     "data": {
      "image/png": "[encoded data removed]",
      "text/plain": [
       "<Figure size 432x288 with 2 Axes>"
      ]
     },
     "metadata": {
      "needs_background": "light"
     },
     "output_type": "display_data"
    },
    {
     "data": {
      "image/png": "[encoded data removed]",
      "text/plain": [
       "<Figure size 432x288 with 1 Axes>"
      ]
     },
     "metadata": {
      "needs_background": "light"
     },
     "output_type": "display_data"
    }
   ],
   "source": [
    "rf,rf_dict = eval_model('rf',rf_param)"
   ]
  },
  {
   "cell_type": "code",
   "execution_count": 27,
   "metadata": {},
   "outputs": [
    {
     "data": {
      "text/plain": [
       "Pipeline(memory=None,\n",
       "         steps=[('preprocessor',\n",
       "                 ColumnTransformer(n_jobs=None, remainder='drop',\n",
       "                                   sparse_threshold=0.3,\n",
       "                                   transformer_weights=None,\n",
       "                                   transformers=[('cat_multi',\n",
       "                                                  Pipeline(memory=None,\n",
       "                                                           steps=[('onehot',\n",
       "                                                                   OneHotEncoder(categories='auto',\n",
       "                                                                                 drop=None,\n",
       "                                                                                 dtype=<class 'numpy.float64'>,\n",
       "                                                                                 handle_unknown='ignore',\n",
       "                                                                                 sparse=True))],\n",
       "                                                           verbose=False),\n",
       "                                                  ['gender', 'SeniorCitize...\n",
       "                 RandomForestClassifier(bootstrap=True, ccp_alpha=0.0,\n",
       "                                        class_weight=None, criterion='gini',\n",
       "                                        max_depth=None, max_features='auto',\n",
       "                                        max_leaf_nodes=None, max_samples=None,\n",
       "                                        min_impurity_decrease=0.0,\n",
       "                                        min_impurity_split=None,\n",
       "                                        min_samples_leaf=1, min_samples_split=2,\n",
       "                                        min_weight_fraction_leaf=0.0,\n",
       "                                        n_estimators=100, n_jobs=None,\n",
       "                                        oob_score=False, random_state=42,\n",
       "                                        verbose=0, warm_start=False))],\n",
       "         verbose=False)"
      ]
     },
     "execution_count": 27,
     "metadata": {},
     "output_type": "execute_result"
    }
   ],
   "source": [
    "pipe.fit(X,y)"
   ]
  },
  {
   "cell_type": "code",
   "execution_count": 28,
   "metadata": {},
   "outputs": [
    {
     "data": {
      "text/html": [
       "<div>\n",
       "<style scoped>\n",
       "    .dataframe tbody tr th:only-of-type {\n",
       "        vertical-align: middle;\n",
       "    }\n",
       "\n",
       "    .dataframe tbody tr th {\n",
       "        vertical-align: top;\n",
       "    }\n",
       "\n",
       "    .dataframe thead th {\n",
       "        text-align: right;\n",
       "    }\n",
       "</style>\n",
       "<table border=\"1\" class=\"dataframe\">\n",
       "  <thead>\n",
       "    <tr style=\"text-align: right;\">\n",
       "      <th></th>\n",
       "      <th>0</th>\n",
       "    </tr>\n",
       "  </thead>\n",
       "  <tbody>\n",
       "    <tr>\n",
       "      <th>gender_Female</th>\n",
       "      <td>0.017519</td>\n",
       "    </tr>\n",
       "    <tr>\n",
       "      <th>gender_Male</th>\n",
       "      <td>0.017765</td>\n",
       "    </tr>\n",
       "    <tr>\n",
       "      <th>SeniorCitizen_0</th>\n",
       "      <td>0.012555</td>\n",
       "    </tr>\n",
       "    <tr>\n",
       "      <th>SeniorCitizen_1</th>\n",
       "      <td>0.012480</td>\n",
       "    </tr>\n",
       "    <tr>\n",
       "      <th>Partner_No</th>\n",
       "      <td>0.013980</td>\n",
       "    </tr>\n",
       "    <tr>\n",
       "      <th>Partner_Yes</th>\n",
       "      <td>0.013967</td>\n",
       "    </tr>\n",
       "    <tr>\n",
       "      <th>Dependents_No</th>\n",
       "      <td>0.012251</td>\n",
       "    </tr>\n",
       "    <tr>\n",
       "      <th>Dependents_Yes</th>\n",
       "      <td>0.012230</td>\n",
       "    </tr>\n",
       "    <tr>\n",
       "      <th>MultipleLines_No</th>\n",
       "      <td>0.014460</td>\n",
       "    </tr>\n",
       "    <tr>\n",
       "      <th>MultipleLines_No phone service</th>\n",
       "      <td>0.004851</td>\n",
       "    </tr>\n",
       "    <tr>\n",
       "      <th>MultipleLines_Yes</th>\n",
       "      <td>0.013108</td>\n",
       "    </tr>\n",
       "    <tr>\n",
       "      <th>InternetService_DSL</th>\n",
       "      <td>0.014672</td>\n",
       "    </tr>\n",
       "    <tr>\n",
       "      <th>InternetService_Fiber optic</th>\n",
       "      <td>0.020545</td>\n",
       "    </tr>\n",
       "    <tr>\n",
       "      <th>InternetService_No</th>\n",
       "      <td>0.003122</td>\n",
       "    </tr>\n",
       "    <tr>\n",
       "      <th>OnlineSecurity_No</th>\n",
       "      <td>0.024851</td>\n",
       "    </tr>\n",
       "    <tr>\n",
       "      <th>OnlineSecurity_No internet service</th>\n",
       "      <td>0.001377</td>\n",
       "    </tr>\n",
       "    <tr>\n",
       "      <th>OnlineSecurity_Yes</th>\n",
       "      <td>0.013592</td>\n",
       "    </tr>\n",
       "    <tr>\n",
       "      <th>OnlineBackup_No</th>\n",
       "      <td>0.017137</td>\n",
       "    </tr>\n",
       "    <tr>\n",
       "      <th>OnlineBackup_No internet service</th>\n",
       "      <td>0.004627</td>\n",
       "    </tr>\n",
       "    <tr>\n",
       "      <th>OnlineBackup_Yes</th>\n",
       "      <td>0.012990</td>\n",
       "    </tr>\n",
       "    <tr>\n",
       "      <th>DeviceProtection_No</th>\n",
       "      <td>0.014245</td>\n",
       "    </tr>\n",
       "    <tr>\n",
       "      <th>DeviceProtection_No internet service</th>\n",
       "      <td>0.002150</td>\n",
       "    </tr>\n",
       "    <tr>\n",
       "      <th>DeviceProtection_Yes</th>\n",
       "      <td>0.011669</td>\n",
       "    </tr>\n",
       "    <tr>\n",
       "      <th>TechSupport_No</th>\n",
       "      <td>0.028313</td>\n",
       "    </tr>\n",
       "    <tr>\n",
       "      <th>TechSupport_No internet service</th>\n",
       "      <td>0.002578</td>\n",
       "    </tr>\n",
       "    <tr>\n",
       "      <th>TechSupport_Yes</th>\n",
       "      <td>0.011575</td>\n",
       "    </tr>\n",
       "    <tr>\n",
       "      <th>StreamingTV_No</th>\n",
       "      <td>0.010877</td>\n",
       "    </tr>\n",
       "    <tr>\n",
       "      <th>StreamingTV_No internet service</th>\n",
       "      <td>0.002098</td>\n",
       "    </tr>\n",
       "    <tr>\n",
       "      <th>StreamingTV_Yes</th>\n",
       "      <td>0.011235</td>\n",
       "    </tr>\n",
       "    <tr>\n",
       "      <th>StreamingMovies_No</th>\n",
       "      <td>0.011495</td>\n",
       "    </tr>\n",
       "    <tr>\n",
       "      <th>StreamingMovies_No internet service</th>\n",
       "      <td>0.003615</td>\n",
       "    </tr>\n",
       "    <tr>\n",
       "      <th>StreamingMovies_Yes</th>\n",
       "      <td>0.011434</td>\n",
       "    </tr>\n",
       "    <tr>\n",
       "      <th>Contract_Month-to-month</th>\n",
       "      <td>0.060486</td>\n",
       "    </tr>\n",
       "    <tr>\n",
       "      <th>Contract_One year</th>\n",
       "      <td>0.008957</td>\n",
       "    </tr>\n",
       "    <tr>\n",
       "      <th>Contract_Two year</th>\n",
       "      <td>0.017325</td>\n",
       "    </tr>\n",
       "    <tr>\n",
       "      <th>PaperlessBilling_No</th>\n",
       "      <td>0.014961</td>\n",
       "    </tr>\n",
       "    <tr>\n",
       "      <th>PaperlessBilling_Yes</th>\n",
       "      <td>0.014657</td>\n",
       "    </tr>\n",
       "    <tr>\n",
       "      <th>PaymentMethod_Bank transfer (automatic)</th>\n",
       "      <td>0.012099</td>\n",
       "    </tr>\n",
       "    <tr>\n",
       "      <th>PaymentMethod_Credit card (automatic)</th>\n",
       "      <td>0.012063</td>\n",
       "    </tr>\n",
       "    <tr>\n",
       "      <th>PaymentMethod_Electronic check</th>\n",
       "      <td>0.027947</td>\n",
       "    </tr>\n",
       "    <tr>\n",
       "      <th>PaymentMethod_Mailed check</th>\n",
       "      <td>0.011376</td>\n",
       "    </tr>\n",
       "    <tr>\n",
       "      <th>MonthlyCharges</th>\n",
       "      <td>0.139992</td>\n",
       "    </tr>\n",
       "    <tr>\n",
       "      <th>TotalCharges</th>\n",
       "      <td>0.161446</td>\n",
       "    </tr>\n",
       "    <tr>\n",
       "      <th>tenure</th>\n",
       "      <td>0.139328</td>\n",
       "    </tr>\n",
       "  </tbody>\n",
       "</table>\n",
       "</div>"
      ],
      "text/plain": [
       "                                                0\n",
       "gender_Female                            0.017519\n",
       "gender_Male                              0.017765\n",
       "SeniorCitizen_0                          0.012555\n",
       "SeniorCitizen_1                          0.012480\n",
       "Partner_No                               0.013980\n",
       "Partner_Yes                              0.013967\n",
       "Dependents_No                            0.012251\n",
       "Dependents_Yes                           0.012230\n",
       "MultipleLines_No                         0.014460\n",
       "MultipleLines_No phone service           0.004851\n",
       "MultipleLines_Yes                        0.013108\n",
       "InternetService_DSL                      0.014672\n",
       "InternetService_Fiber optic              0.020545\n",
       "InternetService_No                       0.003122\n",
       "OnlineSecurity_No                        0.024851\n",
       "OnlineSecurity_No internet service       0.001377\n",
       "OnlineSecurity_Yes                       0.013592\n",
       "OnlineBackup_No                          0.017137\n",
       "OnlineBackup_No internet service         0.004627\n",
       "OnlineBackup_Yes                         0.012990\n",
       "DeviceProtection_No                      0.014245\n",
       "DeviceProtection_No internet service     0.002150\n",
       "DeviceProtection_Yes                     0.011669\n",
       "TechSupport_No                           0.028313\n",
       "TechSupport_No internet service          0.002578\n",
       "TechSupport_Yes                          0.011575\n",
       "StreamingTV_No                           0.010877\n",
       "StreamingTV_No internet service          0.002098\n",
       "StreamingTV_Yes                          0.011235\n",
       "StreamingMovies_No                       0.011495\n",
       "StreamingMovies_No internet service      0.003615\n",
       "StreamingMovies_Yes                      0.011434\n",
       "Contract_Month-to-month                  0.060486\n",
       "Contract_One year                        0.008957\n",
       "Contract_Two year                        0.017325\n",
       "PaperlessBilling_No                      0.014961\n",
       "PaperlessBilling_Yes                     0.014657\n",
       "PaymentMethod_Bank transfer (automatic)  0.012099\n",
       "PaymentMethod_Credit card (automatic)    0.012063\n",
       "PaymentMethod_Electronic check           0.027947\n",
       "PaymentMethod_Mailed check               0.011376\n",
       "MonthlyCharges                           0.139992\n",
       "TotalCharges                             0.161446\n",
       "tenure                                   0.139328"
      ]
     },
     "execution_count": 28,
     "metadata": {},
     "output_type": "execute_result"
    }
   ],
   "source": [
    "feat = pipe['preprocessor'].transformers_[0][1]['onehot']\\\n",
    "                    .get_feature_names(categorical)\n",
    "feat = np.concatenate((feat, numerical))\n",
    "pd.DataFrame(data=rf.estimator[1].feature_importances_,index = feat)"
   ]
  },
  {
   "cell_type": "code",
   "execution_count": 29,
   "metadata": {},
   "outputs": [
    {
     "data": {
      "image/png": "[encoded data removed]",
      "text/plain": [
       "<Figure size 432x288 with 1 Axes>"
      ]
     },
     "metadata": {
      "needs_background": "light"
     },
     "output_type": "display_data"
    }
   ],
   "source": [
    "# display top 10 features\n",
    "feat_importances = pd.Series(rf.estimator[1].feature_importances_ ,index=feat)\n",
    "feat_importances.nlargest(10).plot(kind='barh');"
   ]
  },
  {
   "cell_type": "markdown",
   "metadata": {},
   "source": [
    "## SVC<br>\n",
    "https://medium.com/all-things-ai/in-depth-parameter-tuning-for-svc-758215394769"
   ]
  },
  {
   "cell_type": "markdown",
   "metadata": {},
   "source": [
    "* **C** is the penalty parameter of the error term. It controls the trade off between smooth decision boundary and classifying the training points correctly.\n",
    "* **gamma** is a parameter for non linear hyperplanes. The higher the gamma value it tries to exactly fit the training data set\n",
    "* **kernel** parameters selects the type of hyperplane used to separate the data. Using ‘linear’ will use a linear hyperplane (a line in the case of 2D data). ‘rbf’ and ‘poly’ uses a non linear hyper-plane\n"
   ]
  },
  {
   "cell_type": "code",
   "execution_count": 30,
   "metadata": {},
   "outputs": [],
   "source": [
    "categorical= [ col for col in df.columns if col not in numerical and col!='Churn' and col!='tenure' ]\n",
    "# all numeric columns will be standardized\n",
    "numeric_transformer = Pipeline(steps=[\n",
    "    ('scaler', StandardScaler())])\n",
    "# all categorical columns will be One-Hot-Encoded\n",
    "categorical_transformer = Pipeline(steps=[\n",
    "    ('onehot', OneHotEncoder(handle_unknown='ignore'))])\n",
    "# we will process numerical and categorical columns in parallel\n",
    "preprocessor = ColumnTransformer(\n",
    "    transformers=[\n",
    "        ('cat_multi', categorical_transformer, categorical),\n",
    "        ('num', numeric_transformer, numerical)])"
   ]
  },
  {
   "cell_type": "code",
   "execution_count": 34,
   "metadata": {},
   "outputs": [
    {
     "data": {
      "text/plain": [
       "Pipeline(memory=None,\n",
       "         steps=[('preprocessor',\n",
       "                 ColumnTransformer(n_jobs=None, remainder='drop',\n",
       "                                   sparse_threshold=0.3,\n",
       "                                   transformer_weights=None,\n",
       "                                   transformers=[('cat_multi',\n",
       "                                                  Pipeline(memory=None,\n",
       "                                                           steps=[('onehot',\n",
       "                                                                   OneHotEncoder(categories='auto',\n",
       "                                                                                 drop=None,\n",
       "                                                                                 dtype=<class 'numpy.float64'>,\n",
       "                                                                                 handle_unknown='ignore',\n",
       "                                                                                 sparse=True))],\n",
       "                                                           verbose=False),\n",
       "                                                  ['gender', 'SeniorCitize...\n",
       "                                                   'TotalCharges', 'tenure'])],\n",
       "                                   verbose=False)),\n",
       "                ('rfecv',\n",
       "                 RFECV(cv=5,\n",
       "                       estimator=LinearSVC(C=1.0, class_weight=None, dual=True,\n",
       "                                           fit_intercept=True,\n",
       "                                           intercept_scaling=1,\n",
       "                                           loss='squared_hinge', max_iter=1000,\n",
       "                                           multi_class='ovr', penalty='l2',\n",
       "                                           random_state=None, tol=0.0001,\n",
       "                                           verbose=0),\n",
       "                       min_features_to_select=1, n_jobs=-1, scoring='f1_micro',\n",
       "                       step=1, verbose=0))],\n",
       "         verbose=False)"
      ]
     },
     "execution_count": 34,
     "metadata": {},
     "output_type": "execute_result"
    }
   ],
   "source": [
    "estimator = LinearSVC()\n",
    "pipe_rfecv = Pipeline(steps=[('preprocessor', preprocessor),\n",
    "                      ('rfecv',RFECV(estimator, step=1, cv=5,scoring='f1_micro',n_jobs=-1))])\n",
    "pipe_rfecv.fit(X_train,y_train)"
   ]
  },
  {
   "cell_type": "code",
   "execution_count": 35,
   "metadata": {},
   "outputs": [
    {
     "data": {
      "text/plain": [
       "array(['PhoneService_No', 'MultipleLines_No',\n",
       "       'MultipleLines_No phone service', 'InternetService_DSL',\n",
       "       'InternetService_Fiber optic', 'InternetService_No',\n",
       "       'OnlineSecurity_No internet service',\n",
       "       'OnlineBackup_No internet service',\n",
       "       'DeviceProtection_No internet service',\n",
       "       'TechSupport_No internet service', 'StreamingTV_No',\n",
       "       'StreamingTV_No internet service',\n",
       "       'StreamingMovies_No internet service', 'StreamingMovies_Yes',\n",
       "       'Contract_One year', 'Contract_Two year',\n",
       "       'PaymentMethod_Electronic check', 'MonthlyCharges', 'tenure'],\n",
       "      dtype=object)"
      ]
     },
     "execution_count": 35,
     "metadata": {},
     "output_type": "execute_result"
    }
   ],
   "source": [
    "pipe_rfecv['rfecv'].support_\n",
    "cat = pipe_rfecv['preprocessor'].transformers_[0][1]['onehot']\\\n",
    "                         .get_feature_names(categorical)\n",
    "numerical\n",
    "cat_numeric = np.hstack([cat, numerical])\n",
    "cat_numeric[pipe_rfecv['rfecv'].support_]"
   ]
  },
  {
   "cell_type": "code",
   "execution_count": 37,
   "metadata": {},
   "outputs": [],
   "source": [
    "#manually filter out the  important columns as the columns are dummified\n",
    "numerical =['MonthlyCharges','tenure']\n",
    "categorical = ['PhoneService','MultipleLines','InternetService','OnlineSecurity','OnlineBackup','DeviceProtection',\n",
    "               'TechSupport','StreamingTV','StreamingMovies','Contract','PaymentMethod']"
   ]
  },
  {
   "cell_type": "code",
   "execution_count": 54,
   "metadata": {},
   "outputs": [],
   "source": [
    "svc_param = {\n",
    "    'SVC__C':[1,5,6,7,8,910], #It controls the trade off between smooth decision boundary and classifying the training points correctly.\n",
    "    'SVC__class_weight' : ['balanced',None]\n",
    "}"
   ]
  },
  {
   "cell_type": "code",
   "execution_count": 55,
   "metadata": {},
   "outputs": [],
   "source": [
    "pipe = Pipeline(steps=[('preprocessor', preprocessor),\n",
    "                      ('SVC',LinearSVC(random_state=42,verbose=True))])"
   ]
  },
  {
   "cell_type": "code",
   "execution_count": 56,
   "metadata": {
    "scrolled": false
   },
   "outputs": [
    {
     "name": "stdout",
     "output_type": "stream",
     "text": [
      "Fitting 5 folds for each of 12 candidates, totalling 60 fits\n"
     ]
    },
    {
     "name": "stderr",
     "output_type": "stream",
     "text": [
      "[Parallel(n_jobs=-1)]: Using backend LokyBackend with 8 concurrent workers.\n",
      "[Parallel(n_jobs=-1)]: Done  34 tasks      | elapsed:    4.9s\n",
      "[Parallel(n_jobs=-1)]: Done  60 out of  60 | elapsed:    8.6s finished\n"
     ]
    },
    {
     "name": "stdout",
     "output_type": "stream",
     "text": [
      "[LibLinear]CV F1 Score: 0.628\n",
      "Best Params: {'SVC__C': 7, 'SVC__class_weight': 'balanced'}\n",
      "Test Accuracy: 0.713\n",
      "Test Precision:  0.48\n",
      "Test Recall: 0.79\n",
      "              precision    recall  f1-score   support\n",
      "\n",
      "    No Churn       0.90      0.68      0.78      1033\n",
      "       Churn       0.48      0.79      0.60       374\n",
      "\n",
      "    accuracy                           0.71      1407\n",
      "   macro avg       0.69      0.74      0.69      1407\n",
      "weighted avg       0.79      0.71      0.73      1407\n",
      "\n",
      "971925\n"
     ]
    },
    {
     "data": {
      "image/png": "[encoded data removed]",
      "text/plain": [
       "<Figure size 432x288 with 2 Axes>"
      ]
     },
     "metadata": {
      "needs_background": "light"
     },
     "output_type": "display_data"
    },
    {
     "data": {
      "image/png": "[encoded data removed]",
      "text/plain": [
       "<Figure size 432x288 with 2 Axes>"
      ]
     },
     "metadata": {
      "needs_background": "light"
     },
     "output_type": "display_data"
    },
    {
     "data": {
      "image/png": "[encoded data removed]",
      "text/plain": [
       "<Figure size 432x288 with 1 Axes>"
      ]
     },
     "metadata": {
      "needs_background": "light"
     },
     "output_type": "display_data"
    }
   ],
   "source": [
    "svc,svc_dict= eval_model('svc',svc_param)"
   ]
  },
  {
   "cell_type": "markdown",
   "metadata": {},
   "source": [
    "## Comparison between the 3 models"
   ]
  },
  {
   "cell_type": "code",
   "execution_count": 57,
   "metadata": {},
   "outputs": [
    {
     "data": {
      "text/html": [
       "<div>\n",
       "<style scoped>\n",
       "    .dataframe tbody tr th:only-of-type {\n",
       "        vertical-align: middle;\n",
       "    }\n",
       "\n",
       "    .dataframe tbody tr th {\n",
       "        vertical-align: top;\n",
       "    }\n",
       "\n",
       "    .dataframe thead th {\n",
       "        text-align: right;\n",
       "    }\n",
       "</style>\n",
       "<table border=\"1\" class=\"dataframe\">\n",
       "  <thead>\n",
       "    <tr style=\"text-align: right;\">\n",
       "      <th></th>\n",
       "      <th>LogReg</th>\n",
       "      <th>RF</th>\n",
       "      <th>LinearSVC</th>\n",
       "    </tr>\n",
       "  </thead>\n",
       "  <tbody>\n",
       "    <tr>\n",
       "      <th>val_f1</th>\n",
       "      <td>0.639</td>\n",
       "      <td>0.637</td>\n",
       "      <td>0.628</td>\n",
       "    </tr>\n",
       "    <tr>\n",
       "      <th>test_scores</th>\n",
       "      <td></td>\n",
       "      <td></td>\n",
       "      <td></td>\n",
       "    </tr>\n",
       "    <tr>\n",
       "      <th>f1</th>\n",
       "      <td>0.73</td>\n",
       "      <td>0.74</td>\n",
       "      <td>0.71</td>\n",
       "    </tr>\n",
       "    <tr>\n",
       "      <th>accuracy</th>\n",
       "      <td>0.73</td>\n",
       "      <td>0.738</td>\n",
       "      <td>0.713</td>\n",
       "    </tr>\n",
       "    <tr>\n",
       "      <th>precision</th>\n",
       "      <td>0.5</td>\n",
       "      <td>0.5</td>\n",
       "      <td>0.48</td>\n",
       "    </tr>\n",
       "    <tr>\n",
       "      <th>recall</th>\n",
       "      <td>0.79</td>\n",
       "      <td>0.78</td>\n",
       "      <td>0.79</td>\n",
       "    </tr>\n",
       "    <tr>\n",
       "      <th>best_params</th>\n",
       "      <td>[{'logreg__C': 30, 'logreg__class_weight': 'ba...</td>\n",
       "      <td>[{'rf__class_weight': 'balanced', 'rf__max_dep...</td>\n",
       "      <td>[{'SVC__C': 7, 'SVC__class_weight': 'balanced'}]</td>\n",
       "    </tr>\n",
       "    <tr>\n",
       "      <th>cost_benefit</th>\n",
       "      <td>973485</td>\n",
       "      <td>967100</td>\n",
       "      <td>971925</td>\n",
       "    </tr>\n",
       "  </tbody>\n",
       "</table>\n",
       "</div>"
      ],
      "text/plain": [
       "                                                         LogReg  \\\n",
       "val_f1                                                    0.639   \n",
       "test_scores                                                       \n",
       "f1                                                         0.73   \n",
       "accuracy                                                   0.73   \n",
       "precision                                                   0.5   \n",
       "recall                                                     0.79   \n",
       "best_params   [{'logreg__C': 30, 'logreg__class_weight': 'ba...   \n",
       "cost_benefit                                             973485   \n",
       "\n",
       "                                                             RF  \\\n",
       "val_f1                                                    0.637   \n",
       "test_scores                                                       \n",
       "f1                                                         0.74   \n",
       "accuracy                                                  0.738   \n",
       "precision                                                   0.5   \n",
       "recall                                                     0.78   \n",
       "best_params   [{'rf__class_weight': 'balanced', 'rf__max_dep...   \n",
       "cost_benefit                                             967100   \n",
       "\n",
       "                                                     LinearSVC  \n",
       "val_f1                                                   0.628  \n",
       "test_scores                                                     \n",
       "f1                                                        0.71  \n",
       "accuracy                                                 0.713  \n",
       "precision                                                 0.48  \n",
       "recall                                                    0.79  \n",
       "best_params   [{'SVC__C': 7, 'SVC__class_weight': 'balanced'}]  \n",
       "cost_benefit                                            971925  "
      ]
     },
     "execution_count": 57,
     "metadata": {},
     "output_type": "execute_result"
    }
   ],
   "source": [
    "pd.DataFrame([logreg_dict,rf_dict,svc_dict],\\\n",
    "            index=['LogReg', 'RF', 'LinearSVC']).T"
   ]
  },
  {
   "cell_type": "markdown",
   "metadata": {},
   "source": [
    "# Cost Benefit Analysis\n"
   ]
  },
  {
   "cell_type": "code",
   "execution_count": 58,
   "metadata": {},
   "outputs": [
    {
     "data": {
      "text/plain": [
       "MonthlyCharges    79.65\n",
       "dtype: float64"
      ]
     },
     "execution_count": 58,
     "metadata": {},
     "output_type": "execute_result"
    }
   ],
   "source": [
    "# Median Monthly Charges for Churn\n",
    "df[df['Churn']==1][['MonthlyCharges']].median() #Approx $80"
   ]
  },
  {
   "cell_type": "code",
   "execution_count": 59,
   "metadata": {},
   "outputs": [
    {
     "data": {
      "text/plain": [
       "MonthlyCharges    64.45\n",
       "dtype: float64"
      ]
     },
     "execution_count": 59,
     "metadata": {},
     "output_type": "execute_result"
    }
   ],
   "source": [
    "# Median Monthly Charges for  No Churn\n",
    "df[df['Churn']==0][['MonthlyCharges']].median() #Approx $65"
   ]
  },
  {
   "cell_type": "markdown",
   "metadata": {},
   "source": [
    "From the above, we can see that 'No Churn' customers has lesser subscription than 'Churn' customers.\n",
    "\n",
    "We will select model based on **f1 validation score** and from here we can see that Logistic Regression has the best value of 0.639 and we verified using the Cost_Benefit analysis which is based on 1 calendar year. With LogReg, we are able to have an estimated Sales Revenue of **$973,485** \n",
    "\n",
    "**True Positive** =  correctly predict Churn <br> \n",
    "Total Revenue = $80 * # tp * 11<br>\n",
    "Remarks : We provide free 1 month subscription to entice customer to stay but change to contract 1 year\n",
    "\n",
    "**True Negative** = correctly predict No Churn <br> \n",
    "Total Revenue = $65 * # tn * 12 <br>\n",
    "Remarks :  Business as usual \n",
    "\n",
    "**False Positive** = incorrectly predict Churn **Type 1 Error** <br>\n",
    "Total Revenue = $65 * # fp * 11<br>\n",
    "Remarks : Not as bad as FN as we only lose 1 month of revenue<br>\n",
    "We provide free 1 month subscription to entice customer to stay but change to contract 1 year<br>\n",
    "\n",
    "**False Negative** = incorrectly predict No Churn **Type 2 Error**<br>\n",
    "Total Revenue = -$80 * # fn * 12 <br>\n",
    "Remarks :Total revenue loss :(\n",
    "\n",
    "**Note :**\n",
    "If we go by the baseline/naive way/predict all no churn, we will totally lose at least 380 x 12 x $79 = $360,240.\n"
   ]
  },
  {
   "cell_type": "code",
   "execution_count": 69,
   "metadata": {},
   "outputs": [],
   "source": [
    "numerical =['MonthlyCharges','TotalCharges','tenure']\n",
    "categorical = ['SeniorCitizen','Dependents','MultipleLines','InternetService','OnlineSecurity','OnlineBackup',\\\n",
    "               'DeviceProtection','TechSupport','StreamingTV','StreamingMovies','Contract','PaperlessBilling','PaymentMethod']"
   ]
  },
  {
   "cell_type": "code",
   "execution_count": 70,
   "metadata": {},
   "outputs": [
    {
     "name": "stdout",
     "output_type": "stream",
     "text": [
      "Fitting 5 folds for each of 108 candidates, totalling 540 fits\n"
     ]
    },
    {
     "name": "stderr",
     "output_type": "stream",
     "text": [
      "[Parallel(n_jobs=-1)]: Using backend LokyBackend with 8 concurrent workers.\n",
      "[Parallel(n_jobs=-1)]: Done  34 tasks      | elapsed:    2.2s\n",
      "[Parallel(n_jobs=-1)]: Done 497 tasks      | elapsed:    7.9s\n",
      "[Parallel(n_jobs=-1)]: Done 540 out of 540 | elapsed:    8.3s finished\n"
     ]
    },
    {
     "name": "stdout",
     "output_type": "stream",
     "text": [
      "CV F1 Score: 0.639\n",
      "Best Params: {'logreg__C': 30, 'logreg__class_weight': 'balanced', 'logreg__penalty': 'l2', 'logreg__solver': 'saga'}\n",
      "Test Accuracy: 0.73\n",
      "Test Precision:  0.5\n",
      "Test Recall: 0.79\n",
      "              precision    recall  f1-score   support\n",
      "\n",
      "    No Churn       0.90      0.71      0.79      1033\n",
      "       Churn       0.49      0.79      0.61       374\n",
      "\n",
      "    accuracy                           0.73      1407\n",
      "   macro avg       0.70      0.75      0.70      1407\n",
      "weighted avg       0.80      0.73      0.74      1407\n",
      "\n",
      "973485\n"
     ]
    },
    {
     "data": {
      "image/png": "[encoded data removed]",
      "text/plain": [
       "<Figure size 432x288 with 2 Axes>"
      ]
     },
     "metadata": {
      "needs_background": "light"
     },
     "output_type": "display_data"
    },
    {
     "data": {
      "image/png": "[encoded data removed]",
      "text/plain": [
       "<Figure size 432x288 with 2 Axes>"
      ]
     },
     "metadata": {
      "needs_background": "light"
     },
     "output_type": "display_data"
    },
    {
     "data": {
      "image/png": "[encoded data removed]",
      "text/plain": [
       "<Figure size 432x288 with 1 Axes>"
      ]
     },
     "metadata": {
      "needs_background": "light"
     },
     "output_type": "display_data"
    }
   ],
   "source": [
    "preprocessor = ColumnTransformer(\n",
    "    transformers=[\n",
    "        ('cat_multi', categorical_transformer, categorical),\n",
    "        ('num', numeric_transformer, numerical)])\n",
    "\n",
    "\n",
    "pipe = Pipeline(steps=[('preprocessor', preprocessor),\n",
    "                      ('logreg',LogisticRegression(max_iter=1000, tol=0.1,random_state=42))])\n",
    "\n",
    "# \n",
    "logreg_param = {\n",
    "    'logreg__C': [1e-2, 1e-1, 1, 5, 10,20,30,40,50],\n",
    "    'logreg__penalty' : ['l1','l2'],\n",
    "    'logreg__solver' : ['lbfgs', 'liblinear','saga'],\n",
    "    'logreg__class_weight' : ['balanced', None]\n",
    "}\n",
    "\n",
    "# run model evaluation\n",
    "logreg,logreg_dict = eval_model('logreg',logreg_param)\n",
    "\n"
   ]
  },
  {
   "cell_type": "code",
   "execution_count": 106,
   "metadata": {},
   "outputs": [],
   "source": [
    "cat_column = logreg.best_estimator_.named_steps[\"preprocessor\"].transformers_[0][1]['onehot'].get_feature_names(categorical).tolist()\n",
    "num_column = ['MonthlyCharges','TotalCharges','tenure','intercept']\n",
    "\n",
    "column_name= cat_column  + num_column"
   ]
  },
  {
   "cell_type": "markdown",
   "metadata": {},
   "source": [
    "## Factors that contributed to Churn (+ve)<br>\n",
    "If the customer is on a **Month_to_Month** contract the tendency will be **twice as likely** since they can leave for another company easily. \n",
    "\n",
    "At the opposite side of the spectrum, it's tenure and contract of two years.\n",
    "\n",
    "If the probability of success is 50%, then the odds of success are 1.<br>If the probability of success is 100%, then the odds of success are $\\infty$"
   ]
  },
  {
   "cell_type": "code",
   "execution_count": 139,
   "metadata": {},
   "outputs": [
    {
     "data": {
      "text/plain": [
       "[0.81]"
      ]
     },
     "execution_count": 139,
     "metadata": {},
     "output_type": "execute_result"
    }
   ],
   "source": [
    "intercept = np.exp(logreg.best_estimator_.named_steps['logreg'].intercept_).round(2).tolist()\n",
    "# convert logit(log-odds) to odds by np.exp() for interpretation purposes\n",
    "# IF we need to convert to probability we need to odds/( 1+ odds)\n",
    "coef=np.exp(logreg.best_estimator_.named_steps['logreg'].coef_).round(2).tolist()[0]\n",
    "coef_intercept = coef + intercept"
   ]
  },
  {
   "cell_type": "code",
   "execution_count": 147,
   "metadata": {},
   "outputs": [
    {
     "data": {
      "text/html": [
       "<div>\n",
       "<style scoped>\n",
       "    .dataframe tbody tr th:only-of-type {\n",
       "        vertical-align: middle;\n",
       "    }\n",
       "\n",
       "    .dataframe tbody tr th {\n",
       "        vertical-align: top;\n",
       "    }\n",
       "\n",
       "    .dataframe thead th {\n",
       "        text-align: right;\n",
       "    }\n",
       "</style>\n",
       "<table border=\"1\" class=\"dataframe\">\n",
       "  <thead>\n",
       "    <tr style=\"text-align: right;\">\n",
       "      <th></th>\n",
       "      <th>coefficient_odds</th>\n",
       "    </tr>\n",
       "  </thead>\n",
       "  <tbody>\n",
       "    <tr>\n",
       "      <th>Contract_Month-to-month</th>\n",
       "      <td>1.99</td>\n",
       "    </tr>\n",
       "    <tr>\n",
       "      <th>TotalCharges</th>\n",
       "      <td>1.97</td>\n",
       "    </tr>\n",
       "    <tr>\n",
       "      <th>InternetService_Fiber optic</th>\n",
       "      <td>1.62</td>\n",
       "    </tr>\n",
       "    <tr>\n",
       "      <th>PaymentMethod_Electronic check</th>\n",
       "      <td>1.29</td>\n",
       "    </tr>\n",
       "    <tr>\n",
       "      <th>OnlineSecurity_No</th>\n",
       "      <td>1.22</td>\n",
       "    </tr>\n",
       "    <tr>\n",
       "      <th>TechSupport_No</th>\n",
       "      <td>1.17</td>\n",
       "    </tr>\n",
       "    <tr>\n",
       "      <th>MultipleLines_No phone service</th>\n",
       "      <td>1.16</td>\n",
       "    </tr>\n",
       "    <tr>\n",
       "      <th>StreamingMovies_Yes</th>\n",
       "      <td>1.16</td>\n",
       "    </tr>\n",
       "    <tr>\n",
       "      <th>StreamingTV_Yes</th>\n",
       "      <td>1.11</td>\n",
       "    </tr>\n",
       "    <tr>\n",
       "      <th>OnlineBackup_No</th>\n",
       "      <td>1.06</td>\n",
       "    </tr>\n",
       "    <tr>\n",
       "      <th>PaperlessBilling_Yes</th>\n",
       "      <td>1.01</td>\n",
       "    </tr>\n",
       "    <tr>\n",
       "      <th>DeviceProtection_Yes</th>\n",
       "      <td>1.01</td>\n",
       "    </tr>\n",
       "    <tr>\n",
       "      <th>SeniorCitizen_1</th>\n",
       "      <td>0.99</td>\n",
       "    </tr>\n",
       "    <tr>\n",
       "      <th>MultipleLines_Yes</th>\n",
       "      <td>0.98</td>\n",
       "    </tr>\n",
       "    <tr>\n",
       "      <th>Dependents_No</th>\n",
       "      <td>0.98</td>\n",
       "    </tr>\n",
       "    <tr>\n",
       "      <th>DeviceProtection_No</th>\n",
       "      <td>0.97</td>\n",
       "    </tr>\n",
       "    <tr>\n",
       "      <th>PaymentMethod_Mailed check</th>\n",
       "      <td>0.92</td>\n",
       "    </tr>\n",
       "    <tr>\n",
       "      <th>OnlineBackup_Yes</th>\n",
       "      <td>0.92</td>\n",
       "    </tr>\n",
       "    <tr>\n",
       "      <th>Contract_One year</th>\n",
       "      <td>0.91</td>\n",
       "    </tr>\n",
       "    <tr>\n",
       "      <th>StreamingTV_No</th>\n",
       "      <td>0.88</td>\n",
       "    </tr>\n",
       "    <tr>\n",
       "      <th>PaymentMethod_Credit card (automatic)</th>\n",
       "      <td>0.86</td>\n",
       "    </tr>\n",
       "    <tr>\n",
       "      <th>StreamingMovies_No</th>\n",
       "      <td>0.84</td>\n",
       "    </tr>\n",
       "    <tr>\n",
       "      <th>TechSupport_Yes</th>\n",
       "      <td>0.83</td>\n",
       "    </tr>\n",
       "    <tr>\n",
       "      <th>DeviceProtection_No internet service</th>\n",
       "      <td>0.83</td>\n",
       "    </tr>\n",
       "    <tr>\n",
       "      <th>StreamingTV_No internet service</th>\n",
       "      <td>0.83</td>\n",
       "    </tr>\n",
       "    <tr>\n",
       "      <th>OnlineBackup_No internet service</th>\n",
       "      <td>0.83</td>\n",
       "    </tr>\n",
       "    <tr>\n",
       "      <th>StreamingMovies_No internet service</th>\n",
       "      <td>0.83</td>\n",
       "    </tr>\n",
       "    <tr>\n",
       "      <th>OnlineSecurity_No internet service</th>\n",
       "      <td>0.83</td>\n",
       "    </tr>\n",
       "    <tr>\n",
       "      <th>InternetService_No</th>\n",
       "      <td>0.83</td>\n",
       "    </tr>\n",
       "    <tr>\n",
       "      <th>Dependents_Yes</th>\n",
       "      <td>0.83</td>\n",
       "    </tr>\n",
       "    <tr>\n",
       "      <th>TechSupport_No internet service</th>\n",
       "      <td>0.83</td>\n",
       "    </tr>\n",
       "    <tr>\n",
       "      <th>SeniorCitizen_0</th>\n",
       "      <td>0.82</td>\n",
       "    </tr>\n",
       "    <tr>\n",
       "      <th>intercept</th>\n",
       "      <td>0.81</td>\n",
       "    </tr>\n",
       "    <tr>\n",
       "      <th>PaperlessBilling_No</th>\n",
       "      <td>0.80</td>\n",
       "    </tr>\n",
       "    <tr>\n",
       "      <th>PaymentMethod_Bank transfer (automatic)</th>\n",
       "      <td>0.80</td>\n",
       "    </tr>\n",
       "    <tr>\n",
       "      <th>OnlineSecurity_Yes</th>\n",
       "      <td>0.80</td>\n",
       "    </tr>\n",
       "    <tr>\n",
       "      <th>MonthlyCharges</th>\n",
       "      <td>0.76</td>\n",
       "    </tr>\n",
       "    <tr>\n",
       "      <th>MultipleLines_No</th>\n",
       "      <td>0.71</td>\n",
       "    </tr>\n",
       "    <tr>\n",
       "      <th>InternetService_DSL</th>\n",
       "      <td>0.60</td>\n",
       "    </tr>\n",
       "    <tr>\n",
       "      <th>Contract_Two year</th>\n",
       "      <td>0.45</td>\n",
       "    </tr>\n",
       "    <tr>\n",
       "      <th>tenure</th>\n",
       "      <td>0.26</td>\n",
       "    </tr>\n",
       "  </tbody>\n",
       "</table>\n",
       "</div>"
      ],
      "text/plain": [
       "                                         coefficient_odds\n",
       "Contract_Month-to-month                              1.99\n",
       "TotalCharges                                         1.97\n",
       "InternetService_Fiber optic                          1.62\n",
       "PaymentMethod_Electronic check                       1.29\n",
       "OnlineSecurity_No                                    1.22\n",
       "TechSupport_No                                       1.17\n",
       "MultipleLines_No phone service                       1.16\n",
       "StreamingMovies_Yes                                  1.16\n",
       "StreamingTV_Yes                                      1.11\n",
       "OnlineBackup_No                                      1.06\n",
       "PaperlessBilling_Yes                                 1.01\n",
       "DeviceProtection_Yes                                 1.01\n",
       "SeniorCitizen_1                                      0.99\n",
       "MultipleLines_Yes                                    0.98\n",
       "Dependents_No                                        0.98\n",
       "DeviceProtection_No                                  0.97\n",
       "PaymentMethod_Mailed check                           0.92\n",
       "OnlineBackup_Yes                                     0.92\n",
       "Contract_One year                                    0.91\n",
       "StreamingTV_No                                       0.88\n",
       "PaymentMethod_Credit card (automatic)                0.86\n",
       "StreamingMovies_No                                   0.84\n",
       "TechSupport_Yes                                      0.83\n",
       "DeviceProtection_No internet service                 0.83\n",
       "StreamingTV_No internet service                      0.83\n",
       "OnlineBackup_No internet service                     0.83\n",
       "StreamingMovies_No internet service                  0.83\n",
       "OnlineSecurity_No internet service                   0.83\n",
       "InternetService_No                                   0.83\n",
       "Dependents_Yes                                       0.83\n",
       "TechSupport_No internet service                      0.83\n",
       "SeniorCitizen_0                                      0.82\n",
       "intercept                                            0.81\n",
       "PaperlessBilling_No                                  0.80\n",
       "PaymentMethod_Bank transfer (automatic)              0.80\n",
       "OnlineSecurity_Yes                                   0.80\n",
       "MonthlyCharges                                       0.76\n",
       "MultipleLines_No                                     0.71\n",
       "InternetService_DSL                                  0.60\n",
       "Contract_Two year                                    0.45\n",
       "tenure                                               0.26"
      ]
     },
     "execution_count": 147,
     "metadata": {},
     "output_type": "execute_result"
    }
   ],
   "source": [
    "coef=np.exp(logreg.best_estimator_.named_steps['logreg'].coef_[0]).round(2)\n",
    "odds = pd.DataFrame(coef_intercept,index=column_name,columns=[\"coefficient_odds\"]).sort_values('coefficient_odds',ascending=False)\n",
    "odds"
   ]
  },
  {
   "cell_type": "code",
   "execution_count": 149,
   "metadata": {},
   "outputs": [],
   "source": [
    "# to display in deployment\n",
    "odds.to_csv('data\\odds.csv')"
   ]
  },
  {
   "cell_type": "markdown",
   "metadata": {},
   "source": [
    "## Conclusion\n",
    "\n",
    "We achieve our objective of maintaining the baseline accuracy score and managed to help the company to save more than $300k and it deployed at http://dockerchurn.herokuapp.com/"
   ]
  },
  {
   "cell_type": "code",
   "execution_count": null,
   "metadata": {},
   "outputs": [],
   "source": []
  }
 ],
 "metadata": {
  "kernelspec": {
   "display_name": "Python 3",
   "language": "python",
   "name": "python3"
  },
  "language_info": {
   "codemirror_mode": {
    "name": "ipython",
    "version": 3
   },
   "file_extension": ".py",
   "mimetype": "text/x-python",
   "name": "python",
   "nbconvert_exporter": "python",
   "pygments_lexer": "ipython3",
   "version": "3.7.7"
  }
 },
 "nbformat": 4,
 "nbformat_minor": 4
}
